{
 "cells": [
  {
   "cell_type": "markdown",
   "id": "14e082c6-8d32-45f2-a5b7-ddbd3fac4487",
   "metadata": {},
   "source": [
    "# Herleitung Lorentztransformation"
   ]
  },
  {
   "cell_type": "markdown",
   "id": "c869f471-c051-4875-bd5c-9146ce693b10",
   "metadata": {},
   "source": [
    "Wir wollen die Lorentztransformation der speziellen Relativitätstherie auf Basis einfacher physikalischer Argumente herleiten.\n",
    "\n",
    "Wir betrachten zwei Bezugsysteme $S$ (Raumkoordinaten $x, y, z$ und Zeit $t$) und $S'$ (Raumkoordinaten $x', y', z'$ und Zeit $t'$), wobei sich $S'$ mit einer konstanten Geschwindigkeit $v$ gegenüber $S$ bewegt.\n",
    "\n",
    "Desweiteren legen wir fest:\n",
    "\n",
    "- Die Bewegung von $S'$ finde entlang der $x$-Achse von $S$ statt. Dies können wir aufgrund der Isotropie des Raumes - keine Richtung des Raums sei gegenüber einer anderen ausgezeichnet - tun.\n",
    "- Für $t=0$ sei auch $t'=0$ und zu diesem Zeitpunkt sollen die Koordinaten der beiden Systeme zusammenfallen, d.h. $x'=x, y'=y, z'=z$ für den Zeitpunkt $t=t'=0$.\n",
    "\n",
    "### ToDo\n",
    "Argumentiere, dass für alle Zeiten $y'=y$ und $z'=z$ gilt."
   ]
  },
  {
   "cell_type": "markdown",
   "id": "c35cf485-a8a6-4125-b067-885227816d1b",
   "metadata": {},
   "source": [
    "Im Folgenden leiten wir de Beziehungen $x' = x'(x, t, v)$ und $t'=t'(x, t, v)$ mit Hilfe von SymPy her. \n",
    "\n",
    "Hierbei gehen wir von folgenden zwei Postulaten aus:\n",
    "\n",
    "1. $S$ und $S'$ sind Inertialsysteme.\n",
    "2. Die Lichtgeschwindigkeit $c$ ist in beiden Systemen gleich."
   ]
  },
  {
   "cell_type": "code",
   "execution_count": null,
   "id": "9ce45ae4-3d1a-4fbd-87ea-6acdaecf7048",
   "metadata": {},
   "outputs": [],
   "source": [
    "# Zeige alle Ausdrücke einer Zelle und nicht nur die letzte:\n",
    "import IPython.core.interactiveshell as ipysh\n",
    "ipysh.InteractiveShell.ast_node_interactivity = \"all\"\n",
    "\n",
    "# notwendige Module\n",
    "import sympy as sp"
   ]
  },
  {
   "cell_type": "code",
   "execution_count": null,
   "id": "5dce45a4-74b1-4c1c-9d7d-58193b61b2e9",
   "metadata": {},
   "outputs": [],
   "source": [
    "# Definiere notwendige Symbole\n",
    "x, t, xp, tp = sp.symbols(\"x, t, x^{'}, t^{'}\", real=True)\n",
    "c, v, gamma = sp.symbols(r'c, v, \\gamma', real=True, positive=True)\n",
    "A, B, C, D = sp.symbols('A, B, C, D', real=True, nonzero=True)"
   ]
  },
  {
   "cell_type": "markdown",
   "id": "74f209a9-381e-431b-836e-ea5513d37ad7",
   "metadata": {},
   "source": [
    "## 1. Lineare Transformation zwischen den Systemen\n",
    "\n",
    "Die Systeme $S$ und $S'$ sind Inertialsysteme. Dies bedeutet, dass Geraden in $S$ auf Geraden in $S'$ abgebildet werden.\n",
    "\n",
    "Wir haben also zunächst die Transformation:\n",
    "\n",
    "$$\n",
    "x'=Ax + Bt\\quad\\text{ und } t'=Cx + Dt.\n",
    "$$\n",
    "\n",
    "Hierbei sind $A, B, C, D$ Konstanten, die noch von $v$ aber nicht von den Raum- oder Zeitkoordinaten abhängen dürfen. Wir haben hier bereits berücksichtigt, dass die beiden Systeme zum Zeitpunkt $t=t'=0$ zusammenfallen.\n",
    "\n",
    "Für das Folgende formulieren wir die Hin- und Rücktransformation:"
   ]
  },
  {
   "cell_type": "code",
   "execution_count": null,
   "id": "ee5cea66-1175-4b55-93e8-011808d6a6d3",
   "metadata": {},
   "outputs": [],
   "source": [
    "# Formulierung der Hin- und Rücktransformation \n",
    "M = sp.Matrix([[A, B], [C, D]])\n",
    "Minv = M.inv()\n",
    "IS = sp.Matrix([x, t])\n",
    "ISp = sp.Matrix([xp, tp])\n",
    "\n",
    "# Trafo in Matrixform\n",
    "ISp_eq = sp.Eq(ISp, M * IS)\n",
    "IS_eq = sp.Eq(IS, Minv * ISp)\n",
    "\n",
    "# Trafo als individuelle Gleichungen\n",
    "x_eq = sp.Eq(IS_eq.lhs[0],  IS_eq.rhs[0])\n",
    "t_eq = sp.Eq(IS_eq.lhs[1],  IS_eq.rhs[1])\n",
    "xp_eq = sp.Eq(ISp_eq.lhs[0],  ISp_eq.rhs[0])\n",
    "tp_eq = sp.Eq(ISp_eq.lhs[1],  ISp_eq.rhs[1])\n",
    "\n",
    "xp_eq\n",
    "tp_eq\n",
    "x_eq\n",
    "t_eq"
   ]
  },
  {
   "cell_type": "markdown",
   "id": "67add8ec-5942-4e0a-acb7-4a697c209c83",
   "metadata": {},
   "source": [
    "## 2. Spezialfälle"
   ]
  },
  {
   "cell_type": "markdown",
   "id": "bb778161-153e-445b-a1f5-105973743f5a",
   "metadata": {},
   "source": [
    "Im Folgenden versuchen wir, die Konstanten $A, B, C, D$ festzulegen, indem wir notwendige Anforderungen an die Transformation in obige Gleichugen einsetzen."
   ]
  },
  {
   "cell_type": "markdown",
   "id": "b4a312ed-0c6c-4077-acff-936ceb7feeda",
   "metadata": {},
   "source": [
    "### 2.1. Die $x^{'}=0$ Gerade im System $S$"
   ]
  },
  {
   "cell_type": "markdown",
   "id": "c1091352-98cc-4e27-87ab-3867e8fef889",
   "metadata": {},
   "source": [
    "Per Definition ist für alle Zeiten $t'$ die Gerade $x'=0$ durch $x=vt$ gegeben."
   ]
  },
  {
   "cell_type": "markdown",
   "id": "abb714cc-f3f6-4762-b8cc-49262d6ef1e1",
   "metadata": {},
   "source": [
    "Hieraus folgt aus den Gleichungen:"
   ]
  },
  {
   "cell_type": "code",
   "execution_count": null,
   "id": "eee3bc84-a368-4dc1-af15-9a47e90e6bcd",
   "metadata": {},
   "outputs": [],
   "source": [
    "x_eq\n",
    "t_eq"
   ]
  },
  {
   "cell_type": "markdown",
   "id": "9ef59d71-13d4-4f7b-b96a-87e1e87c271d",
   "metadata": {},
   "source": [
    "die Beziehung"
   ]
  },
  {
   "cell_type": "code",
   "execution_count": null,
   "id": "618f3989-1377-42c8-b05e-1b4507afab70",
   "metadata": {},
   "outputs": [],
   "source": [
    "gl = sp.Eq(x_eq.rhs.subs({xp : 0}), v * t_eq.rhs.subs({xp : 0}))\n",
    "gl"
   ]
  },
  {
   "cell_type": "markdown",
   "id": "b966024d-1fd5-4104-a38c-045d8d60b74c",
   "metadata": {},
   "source": [
    "Hieraus können wir $B$ eliminieren und obige Gleichungen vereinfachen:"
   ]
  },
  {
   "cell_type": "code",
   "execution_count": null,
   "id": "a4ee1db0-943d-4f90-b23a-d08612740f6d",
   "metadata": {},
   "outputs": [],
   "source": [
    "B_loes = sp.solve(gl, B)[0]\n",
    "sp.Eq(B, B_loes)\n",
    "\n",
    "x_eq = x_eq.subs({B : B_loes}).simplify()\n",
    "t_eq = t_eq.subs({B : B_loes}).simplify()\n",
    "xp_eq = xp_eq.subs({B : B_loes}).simplify()\n",
    "tp_eq = tp_eq.subs({B : B_loes}).simplify()\n",
    "\n",
    "x_eq\n",
    "t_eq\n",
    "xp_eq\n",
    "tp_eq"
   ]
  },
  {
   "cell_type": "markdown",
   "id": "9fa6aa3e-c09e-4c9c-b7c9-52e23ae8aff3",
   "metadata": {},
   "source": [
    "### 2.2. Die $x=0$ Gerade im System $S'$"
   ]
  },
  {
   "cell_type": "markdown",
   "id": "0ad15a98-d008-427e-b257-b8d64be706d5",
   "metadata": {},
   "source": [
    "Da die Systeme $S$ und $S'$ gleichberechtigt sind, gilt obiges Argument ähnlich, wenn wir $v$ durch $-v$ ersetzen und die Rollen von $S$ und $S'$ vertauschen, d.h. es gilt:\n",
    "\n",
    "$x^{'}=-vt^{'}$ für $x=0$ und für alle $t$.\n",
    "\n",
    "Hiermit folgt mit einer analogen Rechnung wie eben:"
   ]
  },
  {
   "cell_type": "code",
   "execution_count": null,
   "id": "6113dc3c-37ad-43dd-aa26-a2e8543a0215",
   "metadata": {},
   "outputs": [],
   "source": [
    "xp_eq\n",
    "tp_eq"
   ]
  },
  {
   "cell_type": "code",
   "execution_count": null,
   "id": "bb8a45f5-e611-45ad-a11e-7bd20bd28e66",
   "metadata": {},
   "outputs": [],
   "source": [
    "gl = sp.Eq(xp_eq.rhs.subs({x : 0}), -v * tp_eq.rhs.subs({x : 0}))\n",
    "gl"
   ]
  },
  {
   "cell_type": "markdown",
   "id": "ab99f7ca-e584-4dd6-9988-a9d6b564073c",
   "metadata": {},
   "source": [
    "Auflösen nach $D$ und Vereinfachung der Gleichungen ergibt:"
   ]
  },
  {
   "cell_type": "code",
   "execution_count": null,
   "id": "fa34d1b3-8a57-453a-907d-0345f18360c0",
   "metadata": {},
   "outputs": [],
   "source": [
    "D_loes = sp.solve(gl, D)[0]\n",
    "sp.Eq(D, D_loes)\n",
    "\n",
    "x_eq = x_eq.subs({D : D_loes}).simplify()\n",
    "t_eq = t_eq.subs({D : D_loes}).simplify()\n",
    "xp_eq = xp_eq.subs({D : D_loes}).simplify()\n",
    "tp_eq = tp_eq.subs({D : D_loes}).simplify()\n",
    "\n",
    "x_eq\n",
    "t_eq\n",
    "xp_eq\n",
    "tp_eq"
   ]
  },
  {
   "cell_type": "markdown",
   "id": "91206333-de59-4a21-be24-46f717367fe3",
   "metadata": {},
   "source": [
    "### 2.3. Konstanz der Lichtgeschwindigkeit"
   ]
  },
  {
   "cell_type": "markdown",
   "id": "ba3e06cb-7319-4ae2-8f01-79579d5d5d52",
   "metadata": {},
   "source": [
    "Da in $S$ und in $S'$ die Lichtgeschwindigkeit $c$ dieselbe ist, gilt:\n",
    "\n",
    "$x = ct$ für $x^{'} = ct^{'}$:"
   ]
  },
  {
   "cell_type": "markdown",
   "id": "23044d32-c7a0-4714-b1ed-7bac63c4c2ed",
   "metadata": {},
   "source": [
    "Aus"
   ]
  },
  {
   "cell_type": "code",
   "execution_count": null,
   "id": "2557cdbb-053f-40cf-95cb-fe8d6975f2d1",
   "metadata": {},
   "outputs": [],
   "source": [
    "x_eq\n",
    "t_eq"
   ]
  },
  {
   "cell_type": "markdown",
   "id": "37ed528a-4fd6-4377-a019-8e4786ef10f9",
   "metadata": {},
   "source": [
    "folgt:"
   ]
  },
  {
   "cell_type": "code",
   "execution_count": null,
   "id": "c619b4af-c495-4919-8a06-ebefa452fc00",
   "metadata": {},
   "outputs": [],
   "source": [
    "gl = sp.Eq(x_eq.rhs.subs({xp : c * tp}), c * t_eq.rhs.subs({xp : c * tp}))\n",
    "gl"
   ]
  },
  {
   "cell_type": "markdown",
   "id": "4e6bbbc8-5950-4411-830d-613b90c2b39f",
   "metadata": {},
   "source": [
    "Auflösen nach $C$ und Einsetzen in unsere bisherigen Ergebnisse liefert:"
   ]
  },
  {
   "cell_type": "code",
   "execution_count": null,
   "id": "24b30e47-9065-4bbb-8b91-1fa909784d9c",
   "metadata": {},
   "outputs": [],
   "source": [
    "C_loes = sp.solve(gl, C)[0]\n",
    "sp.Eq(C, C_loes)\n",
    "\n",
    "x_eq = x_eq.subs({C : C_loes}).simplify()\n",
    "t_eq = t_eq.subs({C : C_loes}).simplify()\n",
    "xp_eq = xp_eq.subs({C : C_loes}).simplify()\n",
    "tp_eq = tp_eq.subs({C : C_loes}).simplify()\n",
    "\n",
    "x_eq\n",
    "t_eq\n",
    "xp_eq\n",
    "tp_eq"
   ]
  },
  {
   "cell_type": "markdown",
   "id": "3d8bb980-59fe-4b05-8f06-347fffd3140f",
   "metadata": {},
   "source": [
    "### 2.4. Reziprozität\n",
    "\n",
    "Die Systeme $S$ und $S'$ sind gleichberechtigt. Daher müssen die Transformationsformeln $x \\leftrightarrow x'$ bzw. $t \\leftrightarrow t'$ *identisch* sein, wenn wir $S$ zu $S'$, bzw. $S'$ zu $S$ machen und $v$ durch $-v$ ersetzen."
   ]
  },
  {
   "cell_type": "markdown",
   "id": "081fed47-bf28-4a82-8158-6f9ee882810f",
   "metadata": {},
   "source": [
    "Die Originalgleichungen lauten:"
   ]
  },
  {
   "cell_type": "code",
   "execution_count": null,
   "id": "1829f545-f904-4d00-bc7e-9bfe7b504ccc",
   "metadata": {},
   "outputs": [],
   "source": [
    "xp_eq\n",
    "x_eq\n",
    "tp_eq\n",
    "t_eq"
   ]
  },
  {
   "cell_type": "code",
   "execution_count": null,
   "id": "3f2d56bd-19bc-4865-affb-9f8689e6e7c3",
   "metadata": {},
   "outputs": [],
   "source": [
    "# Ersetzungsregeln\n",
    "exchange_S_Sp = {xp : x, tp : t, x : xp, t : tp, v : -v}"
   ]
  },
  {
   "cell_type": "markdown",
   "id": "4be61c61-5bf6-4999-8e1a-0cd54a643d7a",
   "metadata": {},
   "source": [
    "Obige Vertauschung eingesetzt liefert:"
   ]
  },
  {
   "cell_type": "code",
   "execution_count": null,
   "id": "e2b26478-49b5-4945-8fa1-825d23c9f63a",
   "metadata": {},
   "outputs": [],
   "source": [
    "x_ex_eq = xp_eq.subs(exchange_S_Sp, simultaneous=True)\n",
    "xp_ex_eq = x_eq.subs(exchange_S_Sp, simultaneous=True)\n",
    "t_ex_eq = tp_eq.subs(exchange_S_Sp, simultaneous=True)\n",
    "tp_ex_eq = t_eq.subs(exchange_S_Sp, simultaneous=True)\n",
    "\n",
    "xp_ex_eq\n",
    "x_ex_eq\n",
    "tp_ex_eq\n",
    "t_ex_eq"
   ]
  },
  {
   "cell_type": "markdown",
   "id": "f82d12ee-f3db-4681-a737-30076130090d",
   "metadata": {},
   "source": [
    "Gleichsetzen der Gleichungen für $x$ und Auflösen nach $A$:"
   ]
  },
  {
   "cell_type": "code",
   "execution_count": null,
   "id": "a4928945-a90e-4f29-a17d-37b32a0ca8f4",
   "metadata": {},
   "outputs": [],
   "source": [
    "gl_x = sp.Eq(x_eq.rhs, x_ex_eq.rhs)\n",
    "gl_x"
   ]
  },
  {
   "cell_type": "code",
   "execution_count": null,
   "id": "22f94fdd-c8c2-4c81-977b-001b67d48344",
   "metadata": {},
   "outputs": [],
   "source": [
    "A_loes_x = sp.solve(gl_x, A)[1].refine(sp.Q.positive(c - v)).simplify()\n",
    "sp.Eq(A, A_loes_x)"
   ]
  },
  {
   "cell_type": "markdown",
   "id": "349d2c7c-1789-4bfa-ad8a-b7ba3f9281e0",
   "metadata": {},
   "source": [
    "**Achtung:** Formal hätten wir für $A$ auch noch eine negative Lösung. Dass wir die positive nehmen müssem, sehen wir unten an den erhaltenen Transformationsgleichungen. Beachte hierzu, dass wir für $v=0$ $x=x'$ bzw. $t=t'$ erhalten müssen!\n",
    "\n",
    "Das Ergebnis können wir mit den anderen Gleichungen bestätigen, z.B. mit denen für $t'$:"
   ]
  },
  {
   "cell_type": "code",
   "execution_count": null,
   "id": "7ecdc1f4-8ac8-484d-a99a-729515f4ef82",
   "metadata": {},
   "outputs": [],
   "source": [
    "gl_tp = sp.Eq(tp_eq.rhs, tp_ex_eq.rhs)\n",
    "gl_tp"
   ]
  },
  {
   "cell_type": "code",
   "execution_count": null,
   "id": "af47767c-04fd-4ba9-b836-30a59047ad26",
   "metadata": {},
   "outputs": [],
   "source": [
    "A_loes_tp = sp.solve(gl_tp, A)[1].refine(sp.Q.positive(c - v)).simplify()\n",
    "sp.Eq(A, A_loes_tp)"
   ]
  },
  {
   "cell_type": "markdown",
   "id": "9dea2e20-bb53-4dd1-bfcf-7b62538a44e0",
   "metadata": {},
   "source": [
    "Unsere Transformationsformeln lauten dann:"
   ]
  },
  {
   "cell_type": "code",
   "execution_count": null,
   "id": "9bcd32f3-dcd5-4ba3-b0f4-9d5c05a288e0",
   "metadata": {},
   "outputs": [],
   "source": [
    "x_eq = x_eq.subs({A : A_loes_x})\n",
    "t_eq = t_eq.subs({A : A_loes_x}).simplify()\n",
    "xp_eq = xp_eq.subs({A : A_loes_x}).simplify()\n",
    "tp_eq = tp_eq.subs({A : A_loes_x}).simplify()\n",
    "\n",
    "x_eq\n",
    "t_eq\n",
    "xp_eq\n",
    "tp_eq"
   ]
  },
  {
   "cell_type": "code",
   "execution_count": null,
   "id": "632caeb6-73c9-49eb-bb29-6cfc91d148ce",
   "metadata": {},
   "outputs": [],
   "source": [
    "sp.Limit(x_eq.rhs, c, sp.oo).doit()"
   ]
  },
  {
   "cell_type": "markdown",
   "id": "84b3cf6d-265e-4d34-b074-c1d2ff2b6bc4",
   "metadata": {},
   "source": [
    "Wir bringen die Gleichungen noch in eine gewöhnlichere Form. Hierzu definieren wir\n",
    "\n",
    "$$\n",
    "\\gamma = \\frac{1}{\\sqrt{1 - \\frac{v^2}{c^2}}}\n",
    "$$"
   ]
  },
  {
   "cell_type": "code",
   "execution_count": null,
   "id": "c97682e7-40e6-4de3-96b8-863f6f3675aa",
   "metadata": {},
   "outputs": [],
   "source": [
    "beta = v / c\n",
    "gamma_fac = 1 / sp.sqrt(1 - beta**2)"
   ]
  },
  {
   "cell_type": "code",
   "execution_count": null,
   "id": "1cf5f7f4-2bd0-4251-9cd1-41ea37630fe3",
   "metadata": {},
   "outputs": [],
   "source": [
    "x_eq, t_eq, xp_eq, tp_eq = [ sp.Eq(eq.lhs, gamma * sp.simplify(eq.rhs / gamma_fac)) \n",
    "                             for eq in [x_eq, t_eq, xp_eq, tp_eq]]\n",
    "\n",
    "x_eq\n",
    "t_eq\n",
    "xp_eq\n",
    "tp_eq"
   ]
  },
  {
   "cell_type": "code",
   "execution_count": null,
   "id": "cb0fb15d-075d-4c4d-9b9e-bcda03be167e",
   "metadata": {},
   "outputs": [],
   "source": []
  }
 ],
 "metadata": {
  "kernelspec": {
   "display_name": "Python 3 (ipykernel)",
   "language": "python",
   "name": "python3"
  },
  "language_info": {
   "codemirror_mode": {
    "name": "ipython",
    "version": 3
   },
   "file_extension": ".py",
   "mimetype": "text/x-python",
   "name": "python",
   "nbconvert_exporter": "python",
   "pygments_lexer": "ipython3",
   "version": "3.9.23"
  }
 },
 "nbformat": 4,
 "nbformat_minor": 5
}
